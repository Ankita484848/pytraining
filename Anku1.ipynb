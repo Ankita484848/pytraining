{
  "nbformat": 4,
  "nbformat_minor": 0,
  "metadata": {
    "colab": {
      "name": "Anku1",
      "provenance": [],
      "authorship_tag": "ABX9TyNvutjC9t0FuH0gFNJxT6zB"
    },
    "kernelspec": {
      "name": "python3",
      "display_name": "Python 3"
    }
  },
  "cells": [
    {
      "cell_type": "code",
      "metadata": {
        "id": "9dsMUG5iIo8i",
        "outputId": "c651e977-680e-46e2-cb2d-0eec4293adbf",
        "colab": {
          "base_uri": "https://localhost:8080/"
        }
      },
      "source": [
        "print('Hello India')"
      ],
      "execution_count": 1,
      "outputs": [
        {
          "output_type": "stream",
          "text": [
            "Hello India\n"
          ],
          "name": "stdout"
        }
      ]
    },
    {
      "cell_type": "code",
      "metadata": {
        "id": "2Eu6Cn39JLft",
        "outputId": "ef731410-78b8-46b3-e9e6-159af1061777",
        "colab": {
          "base_uri": "https://localhost:8080/"
        }
      },
      "source": [
        "a=5\n",
        "b=7\n",
        "c=a+b\n",
        "print(a-b)\n",
        "print(c)"
      ],
      "execution_count": 6,
      "outputs": [
        {
          "output_type": "stream",
          "text": [
            "-2\n",
            "12\n"
          ],
          "name": "stdout"
        }
      ]
    },
    {
      "cell_type": "code",
      "metadata": {
        "id": "PyYbF-5LKD2i",
        "outputId": "45b80869-a17d-4597-864c-fc53c617e0ff",
        "colab": {
          "base_uri": "https://localhost:8080/"
        }
      },
      "source": [
        "list=[2,4,7,5,9,2]\n",
        "2 in list"
      ],
      "execution_count": 7,
      "outputs": [
        {
          "output_type": "execute_result",
          "data": {
            "text/plain": [
              "True"
            ]
          },
          "metadata": {
            "tags": []
          },
          "execution_count": 7
        }
      ]
    }
  ]
}